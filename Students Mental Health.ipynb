{
 "cells": [
  {
   "cell_type": "code",
   "execution_count": 1,
   "id": "b0e5b09c",
   "metadata": {},
   "outputs": [],
   "source": [
    "\n",
    "import pandas as pd\n",
    "import pandas as pd\n",
    "import numpy as np\n",
    "import matplotlib.pyplot as plt"
   ]
  },
  {
   "cell_type": "code",
   "execution_count": 2,
   "id": "a6cfb926",
   "metadata": {},
   "outputs": [],
   "source": [
    "import matplotlib.pyplot as plt\n",
    "%matplotlib inline"
   ]
  },
  {
   "cell_type": "code",
   "execution_count": 3,
   "id": "255e12ee",
   "metadata": {},
   "outputs": [],
   "source": [
    "data = pd.read_csv(\"Student Mental health.csv\")"
   ]
  },
  {
   "cell_type": "code",
   "execution_count": 4,
   "id": "e8d587be",
   "metadata": {},
   "outputs": [
    {
     "data": {
      "text/plain": [
       "<matplotlib.collections.PathCollection at 0x227cd749550>"
      ]
     },
     "execution_count": 4,
     "metadata": {},
     "output_type": "execute_result"
    },
    {
     "data": {
      "image/png": "[encoded data removed]",
      "text/plain": [
       "<Figure size 432x288 with 1 Axes>"
      ]
     },
     "metadata": {
      "needs_background": "light"
     },
     "output_type": "display_data"
    }
   ],
   "source": [
    "plt.scatter(data['What is your CGPA?'],data['Did you seek any specialist for a treatment?'])"
   ]
  },
  {
   "cell_type": "code",
   "execution_count": 5,
   "id": "f5216c25",
   "metadata": {},
   "outputs": [
    {
     "name": "stdout",
     "output_type": "stream",
     "text": [
      "<class 'pandas.core.frame.DataFrame'>\n",
      "RangeIndex: 101 entries, 0 to 100\n",
      "Data columns (total 11 columns):\n",
      " #   Column                                        Non-Null Count  Dtype  \n",
      "---  ------                                        --------------  -----  \n",
      " 0   Timestamp                                     101 non-null    object \n",
      " 1   Choose your gender                            101 non-null    object \n",
      " 2   Age                                           100 non-null    float64\n",
      " 3   What is your course?                          101 non-null    object \n",
      " 4   Your current year of Study                    101 non-null    object \n",
      " 5   What is your CGPA?                            101 non-null    object \n",
      " 6   Marital status                                101 non-null    object \n",
      " 7   Do you have Depression?                       101 non-null    object \n",
      " 8   Do you have Anxiety?                          101 non-null    object \n",
      " 9   Do you have Panic attack?                     101 non-null    object \n",
      " 10  Did you seek any specialist for a treatment?  101 non-null    object \n",
      "dtypes: float64(1), object(10)\n",
      "memory usage: 8.8+ KB\n"
     ]
    }
   ],
   "source": [
    "data.info()"
   ]
  },
  {
   "cell_type": "code",
   "execution_count": 6,
   "id": "c1d89b4a",
   "metadata": {},
   "outputs": [
    {
     "data": {
      "text/plain": [
       "array(['year 1', 'year 2', 'Year 1', 'year 3', 'year 4', 'Year 2',\n",
       "       'Year 3'], dtype=object)"
      ]
     },
     "execution_count": 6,
     "metadata": {},
     "output_type": "execute_result"
    }
   ],
   "source": [
    "data['Your current year of Study'].unique()"
   ]
  },
  {
   "cell_type": "code",
   "execution_count": 7,
   "id": "c203184c",
   "metadata": {},
   "outputs": [],
   "source": [
    "data['Marital status']=data['Marital status'].map({'Yes':1,'No':0})"
   ]
  },
  {
   "cell_type": "code",
   "execution_count": 8,
   "id": "58d11114",
   "metadata": {},
   "outputs": [],
   "source": [
    "data['Do you have Depression?']=data['Do you have Depression?'].map({'Yes':1,'No':0})"
   ]
  },
  {
   "cell_type": "code",
   "execution_count": 9,
   "id": "540e12a9",
   "metadata": {},
   "outputs": [],
   "source": [
    "data['Do you have Anxiety?']=data['Do you have Anxiety?'].map({'Yes':1,'No':0})"
   ]
  },
  {
   "cell_type": "code",
   "execution_count": 10,
   "id": "3ea2d41d",
   "metadata": {},
   "outputs": [],
   "source": [
    "data['Do you have Panic attack?']=data['Do you have Panic attack?'].map({'Yes':1,'No':0})"
   ]
  },
  {
   "cell_type": "code",
   "execution_count": 11,
   "id": "5943a844",
   "metadata": {},
   "outputs": [],
   "source": [
    "data['Did you seek any specialist for a treatment?']=data['Did you seek any specialist for a treatment?'].map({'Yes':1,'No':0})"
   ]
  },
  {
   "cell_type": "code",
   "execution_count": 12,
   "id": "aa82dcca",
   "metadata": {},
   "outputs": [],
   "source": [
    "data['Your current year of Study']=data['Your current year of Study'].map({'year 1':1,'year 2':2,'year 3':3,'year 4':4,'Year 1':1,'Year 2':2,'Year 3':3})"
   ]
  },
  {
   "cell_type": "code",
   "execution_count": 13,
   "id": "b2f00f08",
   "metadata": {},
   "outputs": [
    {
     "data": {
      "text/plain": [
       "array(['Engineering', 'Islamic education', 'BIT', 'Laws', 'Mathemathics',\n",
       "       'Pendidikan islam', 'BCS', 'Human Resources', 'Irkhs',\n",
       "       'Psychology', 'KENMS', 'Accounting ', 'ENM', 'Marine science',\n",
       "       'KOE', 'Banking Studies', 'Business Administration', 'Law',\n",
       "       'KIRKHS', 'Usuluddin ', 'TAASL', 'Engine', 'ALA',\n",
       "       'Biomedical science', 'koe', 'Kirkhs', 'BENL', 'Benl', 'IT', 'CTS',\n",
       "       'engin', 'Econs', 'MHSC', 'Malcom', 'Kop', 'Human Sciences ',\n",
       "       'Biotechnology', 'Communication ', 'Diploma Nursing',\n",
       "       'Pendidikan Islam ', 'Radiography', 'psychology', 'Fiqh fatwa ',\n",
       "       'DIPLOMA TESL', 'Koe', 'Fiqh', 'Islamic Education', 'Nursing ',\n",
       "       'Pendidikan Islam'], dtype=object)"
      ]
     },
     "execution_count": 13,
     "metadata": {},
     "output_type": "execute_result"
    }
   ],
   "source": [
    "data['What is your course?'].unique()"
   ]
  },
  {
   "cell_type": "code",
   "execution_count": 14,
   "id": "73576ed6",
   "metadata": {},
   "outputs": [],
   "source": [
    "d={\n",
    "    'Engineering':1,\n",
    "    'Islamic education':2,\n",
    "    'BIT':3,\n",
    "    'Laws':4,\n",
    "    'Mathemathics':5,\n",
    "    'Pendidikan islam':6,\n",
    "    'BCS':7,\n",
    "    'Human Resources':8,\n",
    "    'Irkhs':9,\n",
    "    'Psychology':10,\n",
    "    'KENMS':49, 'Accounting ':11,\n",
    "    'ENM':12,\n",
    "    'Marine science':13,\n",
    "    'KOE':14,\n",
    "    'Banking Studies':15,\n",
    "    'Business Administration':16,\n",
    "    'Law':17,\n",
    "    'KIRKHS':18,\n",
    "    'Usuluddin ':19,\n",
    "    'TAASL':20,\n",
    "    'Engine':21,\n",
    "    'ALA':22,\n",
    "    'Biomedical science':23,\n",
    "    'koe':24,\n",
    "    'Kirkhs':25,\n",
    "    'BENL':26,\n",
    "    'Benl':27,\n",
    "    'IT':28,\n",
    "    'CTS':29,\n",
    "    'engin':30,\n",
    "    'Econs':31,\n",
    "    'MHSC':32,\n",
    "    'Malcom':33,\n",
    "    'Kop':34,\n",
    "    'Human Sciences ':35,\n",
    "    'Biotechnology':36,\n",
    "    'Communication ':37,\n",
    "    'Diploma Nursing':38,\n",
    "    'Pendidikan Islam ':39,\n",
    "    'Radiography':40,\n",
    "    'psychology':41,\n",
    "    'Fiqh fatwa ':42,\n",
    "    'DIPLOMA TESL':43,\n",
    "    'Koe':44,\n",
    "    'Fiqh':45,\n",
    "    'Islamic Education':46,\n",
    "    'Nursing ':47,\n",
    "    'Pendidikan Islam':48\n",
    "    \n",
    "}\n",
    "data['What is your course?'] = data['What is your course?'].map(d)"
   ]
  },
  {
   "cell_type": "code",
   "execution_count": 15,
   "id": "7132ddf5",
   "metadata": {},
   "outputs": [],
   "source": [
    "data['Choose your gender'] = data['Choose your gender'].map({'Male':1,'Female':0})"
   ]
  },
  {
   "cell_type": "code",
   "execution_count": 16,
   "id": "75a8d5e6",
   "metadata": {},
   "outputs": [
    {
     "data": {
      "text/plain": [
       "array(['3.00 - 3.49', '3.50 - 4.00', '3.50 - 4.00 ', '2.50 - 2.99',\n",
       "       '2.00 - 2.49', '0 - 1.99'], dtype=object)"
      ]
     },
     "execution_count": 16,
     "metadata": {},
     "output_type": "execute_result"
    }
   ],
   "source": [
    "data['What is your CGPA?'].unique()"
   ]
  },
  {
   "cell_type": "code",
   "execution_count": 17,
   "id": "b896fa4e",
   "metadata": {},
   "outputs": [],
   "source": [
    "data['What is your CGPA?'] = data['What is your CGPA?'].map({'3.00 - 3.49':1, '3.50 - 4.00':2, '3.50 - 4.00 ':3, '2.50 - 2.99':4,\n",
    "       '2.00 - 2.49':5, '0 - 1.99':6})"
   ]
  },
  {
   "cell_type": "code",
   "execution_count": 18,
   "id": "689bcba9",
   "metadata": {},
   "outputs": [
    {
     "data": {
      "text/plain": [
       "array(['8/7/2020 12:02', '8/7/2020 12:04', '8/7/2020 12:05',\n",
       "       '8/7/2020 12:06', '8/7/2020 12:13', '8/7/2020 12:31',\n",
       "       '8/7/2020 12:32', '8/7/2020 12:33', '8/7/2020 12:35',\n",
       "       '8/7/2020 12:39', '8/7/2020 12:40', '8/7/2020 12:41',\n",
       "       '8/7/2020 12:43', '8/7/2020 12:46', '8/7/2020 12:52',\n",
       "       '8/7/2020 13:05', '8/7/2020 13:07', '8/7/2020 13:12',\n",
       "       '8/7/2020 13:13', '8/7/2020 13:15', '8/7/2020 13:17',\n",
       "       '8/7/2020 13:29', '8/7/2020 13:35', '8/7/2020 13:41',\n",
       "       '8/7/2020 13:58', '8/7/2020 14:05', '8/7/2020 14:27',\n",
       "       '8/7/2020 14:29', '8/7/2020 14:31', '8/7/2020 14:41',\n",
       "       '8/7/2020 14:43', '8/7/2020 14:45', '8/7/2020 14:47',\n",
       "       '8/7/2020 14:56', '8/7/2020 14:57', '8/7/2020 14:58',\n",
       "       '8/7/2020 15:07', '8/7/2020 15:08', '8/7/2020 15:09',\n",
       "       '8/7/2020 15:12', '8/7/2020 15:14', '8/7/2020 15:18',\n",
       "       '8/7/2020 15:27', '8/7/2020 15:37', '8/7/2020 15:47',\n",
       "       '8/7/2020 15:48', '8/7/2020 15:57', '8/7/2020 15:58',\n",
       "       '8/7/2020 16:08', '8/7/2020 16:21', '8/7/2020 16:22',\n",
       "       '8/7/2020 16:34', '8/7/2020 16:53', '8/7/2020 17:05',\n",
       "       '8/7/2020 17:37', '8/7/2020 17:46', '8/7/2020 17:50',\n",
       "       '8/7/2020 18:10', '8/7/2020 18:11', '8/7/2020 19:05',\n",
       "       '8/7/2020 19:32', '8/7/2020 20:36', '8/7/2020 21:21',\n",
       "       '8/7/2020 22:35', '9/7/2020 6:57', '9/7/2020 11:43',\n",
       "       '9/7/2020 11:57', '9/7/2020 13:15', '9/7/2020 18:24',\n",
       "       '13/07/2020 10:07:32', '13/07/2020 10:10:30',\n",
       "       '13/07/2020 10:11:26', '13/07/2020 10:12:18',\n",
       "       '13/07/2020 10:12:26', '13/07/2020 10:12:28',\n",
       "       '13/07/2020 10:14:46', '13/07/2020 10:33:47',\n",
       "       '13/07/2020 10:34:08', '13/07/2020 11:46:13',\n",
       "       '13/07/2020 11:49:02', '13/07/2020 11:54:58',\n",
       "       '13/07/2020 13:57:11', '13/07/2020 14:38:12',\n",
       "       '13/07/2020 14:48:05', '13/07/2020 16:15:13',\n",
       "       '13/07/2020 17:30:44', '13/07/2020 19:08:32',\n",
       "       '13/07/2020 19:56:49', '13/07/2020 21:21:42',\n",
       "       '13/07/2020 21:22:56', '13/07/2020 21:23:57',\n",
       "       '18/07/2020 20:16:21'], dtype=object)"
      ]
     },
     "execution_count": 18,
     "metadata": {},
     "output_type": "execute_result"
    }
   ],
   "source": [
    "data['Timestamp'].unique()"
   ]
  },
  {
   "cell_type": "code",
   "execution_count": 19,
   "id": "24814832",
   "metadata": {},
   "outputs": [
    {
     "data": {
      "text/plain": [
       "Timestamp                                       0\n",
       "Choose your gender                              0\n",
       "Age                                             1\n",
       "What is your course?                            0\n",
       "Your current year of Study                      0\n",
       "What is your CGPA?                              0\n",
       "Marital status                                  0\n",
       "Do you have Depression?                         0\n",
       "Do you have Anxiety?                            0\n",
       "Do you have Panic attack?                       0\n",
       "Did you seek any specialist for a treatment?    0\n",
       "dtype: int64"
      ]
     },
     "execution_count": 19,
     "metadata": {},
     "output_type": "execute_result"
    }
   ],
   "source": [
    "data.isna().sum()"
   ]
  },
  {
   "cell_type": "code",
   "execution_count": 20,
   "id": "7bd0a2d2",
   "metadata": {},
   "outputs": [],
   "source": [
    "data['Age'] = data['Age'].fillna(data['Age'].mean()).astype(int)"
   ]
  },
  {
   "cell_type": "code",
   "execution_count": 21,
   "id": "d2bb724f",
   "metadata": {},
   "outputs": [
    {
     "data": {
      "text/html": [
       "<div>\n",
       "<style scoped>\n",
       "    .dataframe tbody tr th:only-of-type {\n",
       "        vertical-align: middle;\n",
       "    }\n",
       "\n",
       "    .dataframe tbody tr th {\n",
       "        vertical-align: top;\n",
       "    }\n",
       "\n",
       "    .dataframe thead th {\n",
       "        text-align: right;\n",
       "    }\n",
       "</style>\n",
       "<table border=\"1\" class=\"dataframe\">\n",
       "  <thead>\n",
       "    <tr style=\"text-align: right;\">\n",
       "      <th></th>\n",
       "      <th>Timestamp</th>\n",
       "      <th>Choose your gender</th>\n",
       "      <th>Age</th>\n",
       "      <th>What is your course?</th>\n",
       "      <th>Your current year of Study</th>\n",
       "      <th>What is your CGPA?</th>\n",
       "      <th>Marital status</th>\n",
       "      <th>Do you have Depression?</th>\n",
       "      <th>Do you have Anxiety?</th>\n",
       "      <th>Do you have Panic attack?</th>\n",
       "      <th>Did you seek any specialist for a treatment?</th>\n",
       "    </tr>\n",
       "  </thead>\n",
       "  <tbody>\n",
       "    <tr>\n",
       "      <th>0</th>\n",
       "      <td>8/7/2020 12:02</td>\n",
       "      <td>0</td>\n",
       "      <td>18</td>\n",
       "      <td>1</td>\n",
       "      <td>1</td>\n",
       "      <td>1</td>\n",
       "      <td>0</td>\n",
       "      <td>1</td>\n",
       "      <td>0</td>\n",
       "      <td>1</td>\n",
       "      <td>0</td>\n",
       "    </tr>\n",
       "    <tr>\n",
       "      <th>1</th>\n",
       "      <td>8/7/2020 12:04</td>\n",
       "      <td>1</td>\n",
       "      <td>21</td>\n",
       "      <td>2</td>\n",
       "      <td>2</td>\n",
       "      <td>1</td>\n",
       "      <td>0</td>\n",
       "      <td>0</td>\n",
       "      <td>1</td>\n",
       "      <td>0</td>\n",
       "      <td>0</td>\n",
       "    </tr>\n",
       "    <tr>\n",
       "      <th>2</th>\n",
       "      <td>8/7/2020 12:05</td>\n",
       "      <td>1</td>\n",
       "      <td>19</td>\n",
       "      <td>3</td>\n",
       "      <td>1</td>\n",
       "      <td>1</td>\n",
       "      <td>0</td>\n",
       "      <td>1</td>\n",
       "      <td>1</td>\n",
       "      <td>1</td>\n",
       "      <td>0</td>\n",
       "    </tr>\n",
       "    <tr>\n",
       "      <th>3</th>\n",
       "      <td>8/7/2020 12:06</td>\n",
       "      <td>0</td>\n",
       "      <td>22</td>\n",
       "      <td>4</td>\n",
       "      <td>3</td>\n",
       "      <td>1</td>\n",
       "      <td>1</td>\n",
       "      <td>1</td>\n",
       "      <td>0</td>\n",
       "      <td>0</td>\n",
       "      <td>0</td>\n",
       "    </tr>\n",
       "    <tr>\n",
       "      <th>4</th>\n",
       "      <td>8/7/2020 12:13</td>\n",
       "      <td>1</td>\n",
       "      <td>23</td>\n",
       "      <td>5</td>\n",
       "      <td>4</td>\n",
       "      <td>1</td>\n",
       "      <td>0</td>\n",
       "      <td>0</td>\n",
       "      <td>0</td>\n",
       "      <td>0</td>\n",
       "      <td>0</td>\n",
       "    </tr>\n",
       "    <tr>\n",
       "      <th>5</th>\n",
       "      <td>8/7/2020 12:31</td>\n",
       "      <td>1</td>\n",
       "      <td>19</td>\n",
       "      <td>1</td>\n",
       "      <td>2</td>\n",
       "      <td>2</td>\n",
       "      <td>0</td>\n",
       "      <td>0</td>\n",
       "      <td>0</td>\n",
       "      <td>1</td>\n",
       "      <td>0</td>\n",
       "    </tr>\n",
       "    <tr>\n",
       "      <th>6</th>\n",
       "      <td>8/7/2020 12:32</td>\n",
       "      <td>0</td>\n",
       "      <td>23</td>\n",
       "      <td>6</td>\n",
       "      <td>2</td>\n",
       "      <td>3</td>\n",
       "      <td>1</td>\n",
       "      <td>1</td>\n",
       "      <td>0</td>\n",
       "      <td>1</td>\n",
       "      <td>0</td>\n",
       "    </tr>\n",
       "    <tr>\n",
       "      <th>7</th>\n",
       "      <td>8/7/2020 12:33</td>\n",
       "      <td>0</td>\n",
       "      <td>18</td>\n",
       "      <td>7</td>\n",
       "      <td>1</td>\n",
       "      <td>2</td>\n",
       "      <td>0</td>\n",
       "      <td>0</td>\n",
       "      <td>1</td>\n",
       "      <td>0</td>\n",
       "      <td>0</td>\n",
       "    </tr>\n",
       "    <tr>\n",
       "      <th>8</th>\n",
       "      <td>8/7/2020 12:35</td>\n",
       "      <td>0</td>\n",
       "      <td>19</td>\n",
       "      <td>8</td>\n",
       "      <td>2</td>\n",
       "      <td>4</td>\n",
       "      <td>0</td>\n",
       "      <td>0</td>\n",
       "      <td>0</td>\n",
       "      <td>0</td>\n",
       "      <td>0</td>\n",
       "    </tr>\n",
       "    <tr>\n",
       "      <th>9</th>\n",
       "      <td>8/7/2020 12:39</td>\n",
       "      <td>1</td>\n",
       "      <td>18</td>\n",
       "      <td>9</td>\n",
       "      <td>1</td>\n",
       "      <td>2</td>\n",
       "      <td>0</td>\n",
       "      <td>0</td>\n",
       "      <td>1</td>\n",
       "      <td>1</td>\n",
       "      <td>0</td>\n",
       "    </tr>\n",
       "  </tbody>\n",
       "</table>\n",
       "</div>"
      ],
      "text/plain": [
       "        Timestamp  Choose your gender  Age  What is your course?  \\\n",
       "0  8/7/2020 12:02                   0   18                     1   \n",
       "1  8/7/2020 12:04                   1   21                     2   \n",
       "2  8/7/2020 12:05                   1   19                     3   \n",
       "3  8/7/2020 12:06                   0   22                     4   \n",
       "4  8/7/2020 12:13                   1   23                     5   \n",
       "5  8/7/2020 12:31                   1   19                     1   \n",
       "6  8/7/2020 12:32                   0   23                     6   \n",
       "7  8/7/2020 12:33                   0   18                     7   \n",
       "8  8/7/2020 12:35                   0   19                     8   \n",
       "9  8/7/2020 12:39                   1   18                     9   \n",
       "\n",
       "   Your current year of Study  What is your CGPA?  Marital status  \\\n",
       "0                           1                   1               0   \n",
       "1                           2                   1               0   \n",
       "2                           1                   1               0   \n",
       "3                           3                   1               1   \n",
       "4                           4                   1               0   \n",
       "5                           2                   2               0   \n",
       "6                           2                   3               1   \n",
       "7                           1                   2               0   \n",
       "8                           2                   4               0   \n",
       "9                           1                   2               0   \n",
       "\n",
       "   Do you have Depression?  Do you have Anxiety?  Do you have Panic attack?  \\\n",
       "0                        1                     0                          1   \n",
       "1                        0                     1                          0   \n",
       "2                        1                     1                          1   \n",
       "3                        1                     0                          0   \n",
       "4                        0                     0                          0   \n",
       "5                        0                     0                          1   \n",
       "6                        1                     0                          1   \n",
       "7                        0                     1                          0   \n",
       "8                        0                     0                          0   \n",
       "9                        0                     1                          1   \n",
       "\n",
       "   Did you seek any specialist for a treatment?  \n",
       "0                                             0  \n",
       "1                                             0  \n",
       "2                                             0  \n",
       "3                                             0  \n",
       "4                                             0  \n",
       "5                                             0  \n",
       "6                                             0  \n",
       "7                                             0  \n",
       "8                                             0  \n",
       "9                                             0  "
      ]
     },
     "execution_count": 21,
     "metadata": {},
     "output_type": "execute_result"
    }
   ],
   "source": [
    "data.head(10)"
   ]
  },
  {
   "cell_type": "code",
   "execution_count": 22,
   "id": "3880603d",
   "metadata": {},
   "outputs": [],
   "source": [
    "import pandas as pd\n",
    "from sklearn import tree\n",
    "from sklearn.tree import DecisionTreeClassifier\n",
    "from sklearn.linear_model import LogisticRegression\n",
    "from sklearn.neighbors import KNeighborsClassifier\n",
    "from sklearn.naive_bayes import GaussianNB\n",
    "from sklearn.neural_network import MLPClassifier\n",
    "# simple package that splits the train and test data\n",
    "from sklearn.model_selection import train_test_split"
   ]
  },
  {
   "cell_type": "code",
   "execution_count": 23,
   "id": "661908bc",
   "metadata": {},
   "outputs": [],
   "source": [
    "X = data.drop(['Do you have Depression?','Timestamp'],axis=1)\n",
    "y = data['Do you have Depression?']"
   ]
  },
  {
   "cell_type": "code",
   "execution_count": 24,
   "id": "eb7da693",
   "metadata": {},
   "outputs": [],
   "source": [
    "X_train, X_test, Y_train, Y_test = train_test_split(X,y,test_size=0.20)"
   ]
  },
  {
   "cell_type": "code",
   "execution_count": 25,
   "id": "81be498c",
   "metadata": {},
   "outputs": [],
   "source": [
    "##prediction using Kneighbors classifier\n",
    "model = KNeighborsClassifier()"
   ]
  },
  {
   "cell_type": "code",
   "execution_count": 26,
   "id": "94e04604",
   "metadata": {},
   "outputs": [
    {
     "data": {
      "text/plain": [
       "(101,)"
      ]
     },
     "execution_count": 26,
     "metadata": {},
     "output_type": "execute_result"
    }
   ],
   "source": [
    "y.shape"
   ]
  },
  {
   "cell_type": "code",
   "execution_count": 27,
   "id": "21ffdb01",
   "metadata": {},
   "outputs": [
    {
     "data": {
      "text/plain": [
       "KNeighborsClassifier()"
      ]
     },
     "execution_count": 27,
     "metadata": {},
     "output_type": "execute_result"
    }
   ],
   "source": [
    "model.fit(X, y)"
   ]
  },
  {
   "cell_type": "code",
   "execution_count": 28,
   "id": "e1a4012c",
   "metadata": {},
   "outputs": [],
   "source": [
    "y_predict = model.predict(X_test)"
   ]
  },
  {
   "cell_type": "code",
   "execution_count": 29,
   "id": "3957908a",
   "metadata": {},
   "outputs": [
    {
     "name": "stdout",
     "output_type": "stream",
     "text": [
      "[0 1 0 0 0 0 0 1 0 0 0 0 1 0 0 1 0 0 0 0 0]\n"
     ]
    }
   ],
   "source": [
    "print(y_predict)"
   ]
  },
  {
   "cell_type": "code",
   "execution_count": 30,
   "id": "a3347b72",
   "metadata": {},
   "outputs": [
    {
     "data": {
      "text/plain": [
       "0.6190476190476191"
      ]
     },
     "execution_count": 30,
     "metadata": {},
     "output_type": "execute_result"
    }
   ],
   "source": [
    "from sklearn.metrics import accuracy_score\n",
    "accuracy_score(Y_test, y_predict)"
   ]
  },
  {
   "cell_type": "code",
   "execution_count": 31,
   "id": "14edaac5",
   "metadata": {},
   "outputs": [],
   "source": [
    "#prediction using Naive bayes classifier\n",
    "naive_B = GaussianNB()"
   ]
  },
  {
   "cell_type": "code",
   "execution_count": 32,
   "id": "05ed606f",
   "metadata": {},
   "outputs": [
    {
     "data": {
      "text/plain": [
       "GaussianNB()"
      ]
     },
     "execution_count": 32,
     "metadata": {},
     "output_type": "execute_result"
    }
   ],
   "source": [
    "naive_B.fit(X,y)"
   ]
  },
  {
   "cell_type": "code",
   "execution_count": 33,
   "id": "6f3c7733",
   "metadata": {},
   "outputs": [],
   "source": [
    "y_predict = naive_B.predict(X_test)"
   ]
  },
  {
   "cell_type": "code",
   "execution_count": 34,
   "id": "9fa8277d",
   "metadata": {},
   "outputs": [
    {
     "name": "stdout",
     "output_type": "stream",
     "text": [
      "[0 0 1 0 0 0 0 1 0 0 1 1 0 0 0 0 1 0 0 0 1]\n"
     ]
    }
   ],
   "source": [
    "print(y_predict)"
   ]
  },
  {
   "cell_type": "code",
   "execution_count": 35,
   "id": "54500736",
   "metadata": {},
   "outputs": [
    {
     "data": {
      "text/plain": [
       "0.9047619047619048"
      ]
     },
     "execution_count": 35,
     "metadata": {},
     "output_type": "execute_result"
    }
   ],
   "source": [
    "from sklearn.metrics import accuracy_score\n",
    "accuracy_score(Y_test, y_predict)"
   ]
  },
  {
   "cell_type": "code",
   "execution_count": 36,
   "id": "60950c00",
   "metadata": {},
   "outputs": [],
   "source": [
    "#accuracy and prediction using logistic regression\n",
    "log =LogisticRegression()"
   ]
  },
  {
   "cell_type": "code",
   "execution_count": 37,
   "id": "c90fdfd6",
   "metadata": {},
   "outputs": [
    {
     "name": "stderr",
     "output_type": "stream",
     "text": [
      "D:\\Application Softwares\\anaconda\\anaconda3\\lib\\site-packages\\sklearn\\linear_model\\_logistic.py:814: ConvergenceWarning: lbfgs failed to converge (status=1):\n",
      "STOP: TOTAL NO. of ITERATIONS REACHED LIMIT.\n",
      "\n",
      "Increase the number of iterations (max_iter) or scale the data as shown in:\n",
      "    https://scikit-learn.org/stable/modules/preprocessing.html\n",
      "Please also refer to the documentation for alternative solver options:\n",
      "    https://scikit-learn.org/stable/modules/linear_model.html#logistic-regression\n",
      "  n_iter_i = _check_optimize_result(\n"
     ]
    },
    {
     "data": {
      "text/plain": [
       "LogisticRegression()"
      ]
     },
     "execution_count": 37,
     "metadata": {},
     "output_type": "execute_result"
    }
   ],
   "source": [
    "log.fit(X,y)"
   ]
  },
  {
   "cell_type": "code",
   "execution_count": 38,
   "id": "1c396d4c",
   "metadata": {},
   "outputs": [],
   "source": [
    "y_predict = log.predict(X_test)"
   ]
  },
  {
   "cell_type": "code",
   "execution_count": 39,
   "id": "b1259a48",
   "metadata": {},
   "outputs": [
    {
     "data": {
      "text/plain": [
       "array([0, 0, 1, 0, 0, 0, 0, 1, 0, 0, 1, 1, 0, 0, 0, 0, 1, 0, 0, 0, 1],\n",
       "      dtype=int64)"
      ]
     },
     "execution_count": 39,
     "metadata": {},
     "output_type": "execute_result"
    }
   ],
   "source": [
    "y_predict"
   ]
  },
  {
   "cell_type": "code",
   "execution_count": 40,
   "id": "9b32f1dc",
   "metadata": {},
   "outputs": [
    {
     "data": {
      "text/plain": [
       "0.9047619047619048"
      ]
     },
     "execution_count": 40,
     "metadata": {},
     "output_type": "execute_result"
    }
   ],
   "source": [
    "from sklearn.metrics import accuracy_score\n",
    "accuracy_score(Y_test, y_predict)"
   ]
  },
  {
   "cell_type": "code",
   "execution_count": 41,
   "id": "7dafe73a",
   "metadata": {},
   "outputs": [],
   "source": [
    "#accuracy and prediction using Decision tree\n",
    "d_tree = DecisionTreeClassifier()"
   ]
  },
  {
   "cell_type": "code",
   "execution_count": 42,
   "id": "43ccdbd2",
   "metadata": {},
   "outputs": [
    {
     "data": {
      "text/plain": [
       "DecisionTreeClassifier()"
      ]
     },
     "execution_count": 42,
     "metadata": {},
     "output_type": "execute_result"
    }
   ],
   "source": [
    "d_tree.fit(X,y)"
   ]
  },
  {
   "cell_type": "code",
   "execution_count": 43,
   "id": "a770bf16",
   "metadata": {},
   "outputs": [],
   "source": [
    "y_predict = d_tree.predict(X_test)"
   ]
  },
  {
   "cell_type": "code",
   "execution_count": 44,
   "id": "612c961a",
   "metadata": {},
   "outputs": [
    {
     "data": {
      "text/plain": [
       "array([0, 1, 1, 0, 0, 0, 0, 1, 0, 0, 1, 1, 0, 1, 0, 0, 1, 0, 0, 0, 1],\n",
       "      dtype=int64)"
      ]
     },
     "execution_count": 44,
     "metadata": {},
     "output_type": "execute_result"
    }
   ],
   "source": [
    "y_predict"
   ]
  },
  {
   "cell_type": "code",
   "execution_count": 45,
   "id": "92b8d167",
   "metadata": {},
   "outputs": [
    {
     "data": {
      "text/plain": [
       "1.0"
      ]
     },
     "execution_count": 45,
     "metadata": {},
     "output_type": "execute_result"
    }
   ],
   "source": [
    "accuracy_score(Y_test, y_predict)"
   ]
  },
  {
   "cell_type": "code",
   "execution_count": 46,
   "id": "1438f222",
   "metadata": {},
   "outputs": [],
   "source": [
    "#Neural netwoks"
   ]
  },
  {
   "cell_type": "code",
   "execution_count": 47,
   "id": "2a901289",
   "metadata": {},
   "outputs": [],
   "source": [
    "nn = MLPClassifier(hidden_layer_sizes=(10, 10, 10), max_iter=1000)"
   ]
  },
  {
   "cell_type": "code",
   "execution_count": 48,
   "id": "b60798ff",
   "metadata": {},
   "outputs": [
    {
     "name": "stderr",
     "output_type": "stream",
     "text": [
      "D:\\Application Softwares\\anaconda\\anaconda3\\lib\\site-packages\\sklearn\\neural_network\\_multilayer_perceptron.py:692: ConvergenceWarning: Stochastic Optimizer: Maximum iterations (1000) reached and the optimization hasn't converged yet.\n",
      "  warnings.warn(\n"
     ]
    },
    {
     "data": {
      "text/plain": [
       "MLPClassifier(hidden_layer_sizes=(10, 10, 10), max_iter=1000)"
      ]
     },
     "execution_count": 48,
     "metadata": {},
     "output_type": "execute_result"
    }
   ],
   "source": [
    "nn.fit(X,y)"
   ]
  },
  {
   "cell_type": "code",
   "execution_count": 49,
   "id": "3f0c69d5",
   "metadata": {},
   "outputs": [],
   "source": [
    "y_predict = nn.predict(X_test)"
   ]
  },
  {
   "cell_type": "code",
   "execution_count": 50,
   "id": "70b4f65f",
   "metadata": {},
   "outputs": [
    {
     "data": {
      "text/plain": [
       "array([0, 0, 1, 0, 0, 0, 0, 1, 0, 0, 1, 1, 0, 0, 0, 0, 1, 0, 0, 0, 1],\n",
       "      dtype=int64)"
      ]
     },
     "execution_count": 50,
     "metadata": {},
     "output_type": "execute_result"
    }
   ],
   "source": [
    "y_predict"
   ]
  },
  {
   "cell_type": "code",
   "execution_count": 51,
   "id": "7edfdc51",
   "metadata": {},
   "outputs": [
    {
     "data": {
      "text/plain": [
       "0.9047619047619048"
      ]
     },
     "execution_count": 51,
     "metadata": {},
     "output_type": "execute_result"
    }
   ],
   "source": [
    "accuracy_score(Y_test, y_predict)"
   ]
  },
  {
   "cell_type": "code",
   "execution_count": 52,
   "id": "3abd6f94",
   "metadata": {},
   "outputs": [
    {
     "data": {
      "image/png": "[encoded data removed]",
      "text/plain": [
       "<Figure size 432x288 with 1 Axes>"
      ]
     },
     "metadata": {
      "needs_background": "light"
     },
     "output_type": "display_data"
    },
    {
     "data": {
      "image/png": "[encoded data removed]",
      "text/plain": [
       "<Figure size 432x288 with 1 Axes>"
      ]
     },
     "metadata": {
      "needs_background": "light"
     },
     "output_type": "display_data"
    }
   ],
   "source": [
    "plt.hist(X)\n",
    "plt.show()\n",
    "plt.hist(y)\n",
    "plt.show()"
   ]
  },
  {
   "cell_type": "code",
   "execution_count": 53,
   "id": "c89fa674",
   "metadata": {},
   "outputs": [
    {
     "data": {
      "image/png": "[encoded data removed]",
      "text/plain": [
       "<Figure size 432x288 with 1 Axes>"
      ]
     },
     "metadata": {},
     "output_type": "display_data"
    }
   ],
   "source": [
    "plt.pie(y)\n",
    "plt.show()"
   ]
  }
 ],
 "metadata": {
  "kernelspec": {
   "display_name": "Python 3 (ipykernel)",
   "language": "python",
   "name": "python3"
  },
  "language_info": {
   "codemirror_mode": {
    "name": "ipython",
    "version": 3
   },
   "file_extension": ".py",
   "mimetype": "text/x-python",
   "name": "python",
   "nbconvert_exporter": "python",
   "pygments_lexer": "ipython3",
   "version": "3.9.12"
  }
 },
 "nbformat": 4,
 "nbformat_minor": 5
}
